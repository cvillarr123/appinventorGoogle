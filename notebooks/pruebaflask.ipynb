{
  "cells": [
    {
      "cell_type": "markdown",
      "metadata": {
        "id": "view-in-github",
        "colab_type": "text"
      },
      "source": [
        "<a href=\"https://colab.research.google.com/github/cvillarr123/appinventorGoogle/blob/main/notebooks/pruebaflask.ipynb\" target=\"_parent\"><img src=\"https://colab.research.google.com/assets/colab-badge.svg\" alt=\"Open In Colab\"/></a>"
      ]
    },
    {
      "cell_type": "code",
      "execution_count": null,
      "metadata": {
        "id": "_BtPISamgdnb"
      },
      "outputs": [],
      "source": [
        "import pandas as pd\n",
        "import numpy as np\n",
        "import sklearn"
      ]
    },
    {
      "cell_type": "code",
      "execution_count": null,
      "metadata": {
        "id": "4zFNJdIpgin3"
      },
      "outputs": [],
      "source": [
        "!pip install flask-ngrok"
      ]
    },
    {
      "cell_type": "code",
      "execution_count": 1,
      "metadata": {
        "id": "6mwrY8A4hna0"
      },
      "outputs": [],
      "source": [
        "import PIL.Image as Image\n",
        "import io\n",
        "import base64\n",
        "#from data import byte_data"
      ]
    },
    {
      "cell_type": "code",
      "source": [
        "from google.colab import drive\n",
        "from google.colab import auth\n",
        "auth.authenticate_user()\n",
        "import gspread\n",
        "from oauth2client.client import GoogleCredentials\n",
        "gc = gspread.authorize(GoogleCredentials.get_application_default())\n",
        "drive.mount('/content/drive')"
      ],
      "metadata": {
        "colab": {
          "base_uri": "https://localhost:8080/"
        },
        "id": "RCKGdk4VKvLP",
        "outputId": "9440e600-d2b1-434d-8095-d30459ee057d"
      },
      "execution_count": 2,
      "outputs": [
        {
          "output_type": "stream",
          "name": "stdout",
          "text": [
            "Drive already mounted at /content/drive; to attempt to forcibly remount, call drive.mount(\"/content/drive\", force_remount=True).\n"
          ]
        }
      ]
    },
    {
      "cell_type": "code",
      "source": [
        "path='/content/drive/My Drive/uploadImage/'"
      ],
      "metadata": {
        "id": "Mvqy4aMfLTHT"
      },
      "execution_count": 3,
      "outputs": []
    },
    {
      "cell_type": "code",
      "source": [
        "from flask_ngrok import run_with_ngrok\n",
        "from flask import Flask,jsonify, render_template,request\n",
        "app = Flask(__name__)\n",
        "run_with_ngrok(app) #starts ngrok when the app is running\n",
        "\n",
        "@app.route('/', methods=['GET','POST'])\n",
        "def home():\n",
        "    if request.method=='GET':\n",
        "\n",
        "        result = {'result':'voila'}\n",
        "        return result\n",
        "    if request.method=='POST':\n",
        "        imageID = request.form.get('filename')\n",
        "        Byte_Im = request.form.get('file')\n",
        "        imagenpath = path + imageID\n",
        "        #*************\n",
        "        image2bytes = Byte_Im.encode('utf-8')\n",
        "        #image2bytes = Byte_Im\n",
        "        with open(imagenpath,'wb') as file_to_save:\n",
        "            decoded_image_data = base64.decodebytes(image2bytes)\n",
        "            file_to_save.write(decoded_image_data)\n",
        "        #************\n",
        "\n",
        "        #c= base64.b64decode(CadenaImagen)\n",
        "        #im= Image.open(io.BytesIO(c))\n",
        "        #im.show()\n",
        "        result = {'result':'Success'}\n",
        "        return result\n",
        "    else:\n",
        "      result = {'result':'NOPOST'}\n",
        "      return result \n",
        "\n",
        "app.run()"
      ],
      "metadata": {
        "colab": {
          "base_uri": "https://localhost:8080/"
        },
        "id": "CU5dWqyVnUTk",
        "outputId": "cccfe9cf-3249-40ec-defd-0947a6ace3b6"
      },
      "execution_count": null,
      "outputs": [
        {
          "output_type": "stream",
          "name": "stdout",
          "text": [
            " * Serving Flask app \"__main__\" (lazy loading)\n",
            " * Environment: production\n",
            "\u001b[31m   WARNING: This is a development server. Do not use it in a production deployment.\u001b[0m\n",
            "\u001b[2m   Use a production WSGI server instead.\u001b[0m\n",
            " * Debug mode: off\n"
          ]
        },
        {
          "output_type": "stream",
          "name": "stderr",
          "text": [
            " * Running on http://127.0.0.1:5000/ (Press CTRL+C to quit)\n"
          ]
        },
        {
          "output_type": "stream",
          "name": "stdout",
          "text": [
            " * Running on http://e526-34-86-248-148.ngrok.io\n",
            " * Traffic stats available on http://127.0.0.1:4040\n"
          ]
        },
        {
          "output_type": "stream",
          "name": "stderr",
          "text": [
            "127.0.0.1 - - [19/Jan/2022 04:43:01] \"\u001b[37mPOST / HTTP/1.1\u001b[0m\" 200 -\n"
          ]
        }
      ]
    },
    {
      "cell_type": "code",
      "execution_count": null,
      "metadata": {
        "id": "qTzze4eVP4Y8"
      },
      "outputs": [],
      "source": [
        ""
      ]
    }
  ],
  "metadata": {
    "colab": {
      "name": "pruebaflask.ipynb",
      "provenance": [],
      "collapsed_sections": [],
      "include_colab_link": true
    },
    "kernelspec": {
      "display_name": "Python 3 (ipykernel)",
      "language": "python",
      "name": "python3"
    },
    "language_info": {
      "codemirror_mode": {
        "name": "ipython",
        "version": 3
      },
      "file_extension": ".py",
      "mimetype": "text/x-python",
      "name": "python",
      "nbconvert_exporter": "python",
      "pygments_lexer": "ipython3",
      "version": "3.8.12"
    }
  },
  "nbformat": 4,
  "nbformat_minor": 0
}